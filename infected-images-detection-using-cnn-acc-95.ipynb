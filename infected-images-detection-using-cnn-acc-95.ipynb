{
 "cells": [
  {
   "cell_type": "markdown",
   "metadata": {},
   "source": [
    "**In the given kernel, I am using 50 x 50 reduced images of the original Malaria Cell Images Dataset for the purpose of classification.** The reason behind this decision was to see the effect of scaling on the classification algorithm being used."
   ]
  },
  {
   "cell_type": "code",
   "execution_count": 1,
   "metadata": {},
   "outputs": [
    {
     "name": "stderr",
     "output_type": "stream",
     "text": [
      "Using TensorFlow backend.\n"
     ]
    }
   ],
   "source": [
    "import os\n",
    "import cv2\n",
    "import matplotlib.pyplot as plt \n",
    "from sklearn.model_selection import train_test_split\n",
    "import keras\n",
    "from keras.utils import np_utils\n",
    "from keras.models import Sequential\n",
    "from keras import optimizers\n",
    "from keras.preprocessing.image import ImageDataGenerator\n",
    "from keras.layers import Dense, Conv2D, Flatten\n",
    "from keras.layers import MaxPooling2D, GlobalAveragePooling2D\n",
    "from keras.layers import Activation, BatchNormalization\n",
    "from keras.layers import Dropout"
   ]
  },
  {
   "cell_type": "code",
   "execution_count": 2,
   "metadata": {
    "_cell_guid": "b1076dfc-b9ad-4769-8c92-a6c4dae69d19",
    "_uuid": "8f2839f25d086af736a60e9eeb907d3b93b6e0e5"
   },
   "outputs": [
    {
     "name": "stdout",
     "output_type": "stream",
     "text": [
      "['cell_images']\n"
     ]
    }
   ],
   "source": [
    "# This Python 3 environment comes with many helpful analytics libraries installed\n",
    "# It is defined by the kaggle/python docker image: https://github.com/kaggle/docker-python\n",
    "# For example, here's several helpful packages to load in \n",
    "\n",
    "import numpy as np # linear algebra\n",
    "import pandas as pd # data processing, CSV file I/O (e.g. pd.read_csv)\n",
    "\n",
    "# Input data files are available in the \"../input/\" directory.\n",
    "# For example, running this (by clicking run or pressing Shift+Enter) will list the files in the input directory\n",
    "\n",
    "import os\n",
    "print(os.listdir(\"../input\"))\n",
    "\n",
    "# Any results you write to the current directory are saved as output."
   ]
  },
  {
   "cell_type": "code",
   "execution_count": 3,
   "metadata": {},
   "outputs": [],
   "source": [
    "parasitized_data = os.listdir('../input/cell_images/Parasitized_VGG/')\n",
    "uninfected_data = os.listdir('../input/cell_images/Uninfected_VGG/')"
   ]
  },
  {
   "cell_type": "markdown",
   "metadata": {},
   "source": [
    "Use the following code to find whether Thumbs.db exists in your list of images. It consequently removes the concerned file."
   ]
  },
  {
   "cell_type": "code",
   "execution_count": 4,
   "metadata": {},
   "outputs": [],
   "source": [
    "# images_1 = os.listdir(base_address_1)\n",
    "# images_0 = os.listdir(base_address_0)\n",
    "# # Removing 'Thumbs.db' file from the list of images\n",
    "# for img in images_1:\n",
    "#     if 'Thumbs.db' in img:\n",
    "#         idx = images_1.index(img)\n",
    "#         images_1.pop(idx)\n",
    "# for img in images_0:\n",
    "#     if 'Thumbs.db' in img:\n",
    "#         idx = images_0.index(img)\n",
    "#         images_0.pop(idx)"
   ]
  },
  {
   "cell_type": "code",
   "execution_count": 5,
   "metadata": {},
   "outputs": [
    {
     "name": "stdout",
     "output_type": "stream",
     "text": [
      "The image files for Uninfected are: 13799\n",
      "The image files for Infected are: 13779\n"
     ]
    }
   ],
   "source": [
    "print('The image files for Uninfected are: '+str(len(uninfected_data)))\n",
    "print('The image files for Infected are: '+str(len(parasitized_data)))"
   ]
  },
  {
   "cell_type": "code",
   "execution_count": 6,
   "metadata": {},
   "outputs": [],
   "source": [
    "data = []\n",
    "labels = []\n",
    "for img in parasitized_data:\n",
    "    try:\n",
    "        img_array = cv2.imread('../input/cell_images/Parasitized_VGG/' + img)\n",
    "        data.append(img_array)\n",
    "        labels.append(1)\n",
    "    except:\n",
    "        print(\"Runtime Exception due to image at index \"+ str(parasitized_data.index(img)))\n",
    "        \n",
    "for img in uninfected_data:\n",
    "    try:\n",
    "        img_array = cv2.imread('../input/cell_images/Uninfected_VGG' + \"/\" + img)\n",
    "        data.append(img_array)\n",
    "        labels.append(0)\n",
    "    except:\n",
    "        print(\"Runtime Exception due to image at index \"+ str(uninfected_data.index(img)))"
   ]
  },
  {
   "cell_type": "code",
   "execution_count": 7,
   "metadata": {},
   "outputs": [
    {
     "name": "stdout",
     "output_type": "stream",
     "text": [
      "27578\n",
      "27578\n"
     ]
    }
   ],
   "source": [
    "print(len(data))\n",
    "print(len(labels))"
   ]
  },
  {
   "cell_type": "code",
   "execution_count": 8,
   "metadata": {},
   "outputs": [
    {
     "data": {
      "text/plain": [
       "<matplotlib.image.AxesImage at 0x7f8989dd3eb8>"
      ]
     },
     "execution_count": 8,
     "metadata": {},
     "output_type": "execute_result"
    },
    {
     "data": {
      "image/png": "[encoded data removed]",
      "text/plain": [
       "<Figure size 432x288 with 1 Axes>"
      ]
     },
     "metadata": {
      "needs_background": "light"
     },
     "output_type": "display_data"
    }
   ],
   "source": [
    "# Visualization an uninfected image\n",
    "img = cv2.imread('../input/cell_images/Uninfected_VGG' + \"/\" + uninfected_data[0])\n",
    "plt.imshow(img)"
   ]
  },
  {
   "cell_type": "code",
   "execution_count": 9,
   "metadata": {},
   "outputs": [
    {
     "data": {
      "text/plain": [
       "<matplotlib.image.AxesImage at 0x7f89865655c0>"
      ]
     },
     "execution_count": 9,
     "metadata": {},
     "output_type": "execute_result"
    },
    {
     "data": {
      "image/png": "[encoded data removed]",
      "text/plain": [
       "<Figure size 432x288 with 1 Axes>"
      ]
     },
     "metadata": {
      "needs_background": "light"
     },
     "output_type": "display_data"
    }
   ],
   "source": [
    "# Visualization an infected image\n",
    "img = cv2.imread('../input/cell_images/Parasitized_VGG' + \"/\" + parasitized_data[0])\n",
    "plt.imshow(img)"
   ]
  },
  {
   "cell_type": "markdown",
   "metadata": {},
   "source": [
    "**Conversion of the lists into arrays**"
   ]
  },
  {
   "cell_type": "code",
   "execution_count": 10,
   "metadata": {},
   "outputs": [],
   "source": [
    "image_data = np.array(data)\n",
    "labels = np.array(labels)\n",
    "# Shuffling the data \n",
    "idx = np.arange(image_data.shape[0])\n",
    "np.random.shuffle(idx)\n",
    "image_data = image_data[idx]\n",
    "labels = labels[idx]"
   ]
  },
  {
   "cell_type": "markdown",
   "metadata": {},
   "source": [
    "**Train- Test Split**"
   ]
  },
  {
   "cell_type": "code",
   "execution_count": 11,
   "metadata": {},
   "outputs": [],
   "source": [
    "# Training and Test data split\n",
    "X_train, X_test, y_train, y_test = train_test_split(image_data,labels, test_size=0.20, random_state = 101) "
   ]
  },
  {
   "cell_type": "code",
   "execution_count": 12,
   "metadata": {},
   "outputs": [],
   "source": [
    "# One- Hot Encoding the lables\n",
    "y_train = np_utils.to_categorical(y_train, num_classes = 2)\n",
    "y_test = np_utils.to_categorical(y_test, num_classes = 2)"
   ]
  },
  {
   "cell_type": "code",
   "execution_count": 13,
   "metadata": {},
   "outputs": [],
   "source": [
    "# Normalizing the data\n",
    "X_train = X_train.astype('float32')/255\n",
    "X_test = X_test.astype('float32')/255"
   ]
  },
  {
   "cell_type": "code",
   "execution_count": 14,
   "metadata": {},
   "outputs": [],
   "source": [
    "########################################################################################################################\n",
    "# Defining the model\n",
    "###########################################################################################################################\n",
    "\n",
    "model = Sequential()\n",
    "model.add(Conv2D(filters=16,kernel_size=2,padding=\"same\",activation=\"relu\",input_shape=(50,50,3)))\n",
    "model.add(MaxPooling2D(pool_size=2))\n",
    "model.add(BatchNormalization(axis = -1))\n",
    "model.add(Dropout(0.3))\n",
    "model.add(Conv2D(filters=32,kernel_size=2,padding=\"same\",activation=\"relu\"))\n",
    "model.add(MaxPooling2D(pool_size=2))\n",
    "model.add(Conv2D(filters=64,kernel_size=2,padding=\"same\",activation=\"relu\"))\n",
    "model.add(MaxPooling2D(pool_size=2))\n",
    "model.add(Dropout(0.2))\n",
    "model.add(Flatten())\n",
    "model.add(Dense(500,activation=\"relu\"))\n",
    "model.add(Dropout(0.2))\n",
    "model.add(Dense(2, activation = 'softmax'))"
   ]
  },
  {
   "cell_type": "code",
   "execution_count": 15,
   "metadata": {},
   "outputs": [
    {
     "name": "stdout",
     "output_type": "stream",
     "text": [
      "_________________________________________________________________\n",
      "Layer (type)                 Output Shape              Param #   \n",
      "=================================================================\n",
      "conv2d_1 (Conv2D)            (None, 50, 50, 16)        208       \n",
      "_________________________________________________________________\n",
      "max_pooling2d_1 (MaxPooling2 (None, 25, 25, 16)        0         \n",
      "_________________________________________________________________\n",
      "batch_normalization_1 (Batch (None, 25, 25, 16)        64        \n",
      "_________________________________________________________________\n",
      "dropout_1 (Dropout)          (None, 25, 25, 16)        0         \n",
      "_________________________________________________________________\n",
      "conv2d_2 (Conv2D)            (None, 25, 25, 32)        2080      \n",
      "_________________________________________________________________\n",
      "max_pooling2d_2 (MaxPooling2 (None, 12, 12, 32)        0         \n",
      "_________________________________________________________________\n",
      "conv2d_3 (Conv2D)            (None, 12, 12, 64)        8256      \n",
      "_________________________________________________________________\n",
      "max_pooling2d_3 (MaxPooling2 (None, 6, 6, 64)          0         \n",
      "_________________________________________________________________\n",
      "dropout_2 (Dropout)          (None, 6, 6, 64)          0         \n",
      "_________________________________________________________________\n",
      "flatten_1 (Flatten)          (None, 2304)              0         \n",
      "_________________________________________________________________\n",
      "dense_1 (Dense)              (None, 500)               1152500   \n",
      "_________________________________________________________________\n",
      "dropout_3 (Dropout)          (None, 500)               0         \n",
      "_________________________________________________________________\n",
      "dense_2 (Dense)              (None, 2)                 1002      \n",
      "=================================================================\n",
      "Total params: 1,164,110\n",
      "Trainable params: 1,164,078\n",
      "Non-trainable params: 32\n",
      "_________________________________________________________________\n"
     ]
    }
   ],
   "source": [
    "model.summary()"
   ]
  },
  {
   "cell_type": "code",
   "execution_count": 16,
   "metadata": {},
   "outputs": [
    {
     "name": "stdout",
     "output_type": "stream",
     "text": [
      "Epoch 1/25\n",
      "22062/22062 [==============================] - 31s 1ms/step - loss: 0.5798 - acc: 0.7010\n",
      "Epoch 2/25\n",
      "22062/22062 [==============================] - 31s 1ms/step - loss: 0.1962 - acc: 0.9302\n",
      "Epoch 3/25\n",
      "22062/22062 [==============================] - 30s 1ms/step - loss: 0.1592 - acc: 0.9464\n",
      "Epoch 4/25\n",
      "22062/22062 [==============================] - 30s 1ms/step - loss: 0.1433 - acc: 0.9529\n",
      "Epoch 5/25\n",
      "22062/22062 [==============================] - 30s 1ms/step - loss: 0.1385 - acc: 0.9527\n",
      "Epoch 6/25\n",
      "22062/22062 [==============================] - 30s 1ms/step - loss: 0.1306 - acc: 0.9544\n",
      "Epoch 7/25\n",
      "22062/22062 [==============================] - 30s 1ms/step - loss: 0.1236 - acc: 0.9572\n",
      "Epoch 8/25\n",
      "22062/22062 [==============================] - 30s 1ms/step - loss: 0.1185 - acc: 0.9581\n",
      "Epoch 9/25\n",
      "22062/22062 [==============================] - 30s 1ms/step - loss: 0.1118 - acc: 0.9612\n",
      "Epoch 10/25\n",
      "22062/22062 [==============================] - 31s 1ms/step - loss: 0.1059 - acc: 0.9628\n",
      "Epoch 11/25\n",
      "22062/22062 [==============================] - 30s 1ms/step - loss: 0.1023 - acc: 0.9642\n",
      "Epoch 12/25\n",
      "22062/22062 [==============================] - 30s 1ms/step - loss: 0.0960 - acc: 0.9656\n",
      "Epoch 13/25\n",
      "22062/22062 [==============================] - 30s 1ms/step - loss: 0.0862 - acc: 0.9693\n",
      "Epoch 14/25\n",
      " 8600/22062 [==========>...................] - ETA: 18s - loss: 0.0795 - acc: 0.9721"
     ]
    }
   ],
   "source": [
    "# Defining the optimizer, loss, performance of the metrcis of the model\n",
    "batches = 50\n",
    "optim = optimizers.Adam(lr = 0.001, decay = 0.001 / batches)\n",
    "model.compile(loss='categorical_crossentropy', optimizer=optim, metrics=['accuracy'])\n",
    "model.fit(X_train,y_train,batch_size=batches,epochs=25,verbose=1)"
   ]
  },
  {
   "cell_type": "markdown",
   "metadata": {},
   "source": [
    "* We get an accuracy of 98.27% on the training data with 25 epochs."
   ]
  },
  {
   "cell_type": "code",
   "execution_count": 17,
   "metadata": {},
   "outputs": [
    {
     "name": "stdout",
     "output_type": "stream",
     "text": [
      "1/1 [==============================] - 3s 3s/step\n"
     ]
    },
    {
     "data": {
      "text/plain": [
       "[0.23251061141490936, 0.9532269835472107]"
      ]
     },
     "execution_count": 17,
     "metadata": {},
     "output_type": "execute_result"
    }
   ],
   "source": [
    "model.evaluate(X_test,y_test, steps = 1)"
   ]
  },
  {
   "cell_type": "markdown",
   "metadata": {},
   "source": [
    "...and a validation accuracy of > 95%."
   ]
  },
  {
   "cell_type": "code",
   "execution_count": null,
   "metadata": {},
   "outputs": [],
   "source": []
  }
 ],
 "metadata": {
  "kernelspec": {
   "display_name": "Python 3",
   "language": "python",
   "name": "python3"
  },
  "language_info": {
   "codemirror_mode": {
    "name": "ipython",
    "version": 3
   },
   "file_extension": ".py",
   "mimetype": "text/x-python",
   "name": "python",
   "nbconvert_exporter": "python",
   "pygments_lexer": "ipython3",
   "version": "3.6.6"
  }
 },
 "nbformat": 4,
 "nbformat_minor": 1
}
